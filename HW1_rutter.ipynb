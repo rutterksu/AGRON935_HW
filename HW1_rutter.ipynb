{
 "cells": [
  {
   "cell_type": "markdown",
   "metadata": {},
   "source": [
    "# Compute the Day of the year\n",
    "__Bryan Rutter__  \n",
    "_January 31, 2020_"
   ]
  },
  {
   "cell_type": "code",
   "execution_count": 118,
   "metadata": {},
   "outputs": [],
   "source": [
    "# Import the required modules, 'math' and 'datetime'\n",
    "import math, datetime # we can import multiple modules by separating with a comma"
   ]
  },
  {
   "cell_type": "code",
   "execution_count": 131,
   "metadata": {},
   "outputs": [
    {
     "name": "stdout",
     "output_type": "stream",
     "text": [
      "Start date = 2020-01-01 00:00:00\n"
     ]
    }
   ],
   "source": [
    "# Assign a start date to an object\n",
    "start_date = datetime.datetime(2020, 1, 1) # Year - month - day\n",
    "print(\"Start date =\", start_date)"
   ]
  },
  {
   "cell_type": "code",
   "execution_count": 132,
   "metadata": {},
   "outputs": [
    {
     "name": "stdout",
     "output_type": "stream",
     "text": [
      "End date = 2020-11-15 00:00:00\n"
     ]
    }
   ],
   "source": [
    "# Assign an end date to an object\n",
    "end_date = datetime.datetime(2020, 11, 15) # Year - month - day, Its my birthday!\n",
    "print(\"End date =\", end_date)"
   ]
  },
  {
   "cell_type": "code",
   "execution_count": 161,
   "metadata": {},
   "outputs": [
    {
     "name": "stdout",
     "output_type": "stream",
     "text": [
      "November 15, 2020 occurs 14 days from the start of the year\n"
     ]
    }
   ],
   "source": [
    "# Calculate the difference between the two dates\n",
    "delta_days = (end_date - start_date)\n",
    "print(\"November 15, 2020 occurs\",\n",
    "      delta_days.days, # adding '.days' to the end of the delta_days object prevents printing the time components\n",
    "      \"days from the start of the year\")"
   ]
  }
 ],
 "metadata": {
  "kernelspec": {
   "display_name": "Python 3",
   "language": "python",
   "name": "python3"
  },
  "language_info": {
   "codemirror_mode": {
    "name": "ipython",
    "version": 3
   },
   "file_extension": ".py",
   "mimetype": "text/x-python",
   "name": "python",
   "nbconvert_exporter": "python",
   "pygments_lexer": "ipython3",
   "version": "3.7.4"
  }
 },
 "nbformat": 4,
 "nbformat_minor": 4
}
